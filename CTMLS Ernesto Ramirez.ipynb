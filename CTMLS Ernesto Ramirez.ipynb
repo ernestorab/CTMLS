{
 "cells": [
  {
   "cell_type": "markdown",
   "metadata": {},
   "source": [
    "# Breast Cancer Wisconsin (Prognostic) Data Set Analysis"
   ]
  },
  {
   "cell_type": "markdown",
   "metadata": {},
   "source": [
    "Ernesto Ramírez Abitia"
   ]
  },
  {
   "cell_type": "markdown",
   "metadata": {},
   "source": [
    "## First look at the data"
   ]
  },
  {
   "cell_type": "markdown",
   "metadata": {},
   "source": [
    "From the website (https://archive.ics.uci.edu/ml/machine-learning-databases/breast-cancer-wisconsin/wpbc.names) we have the following description of the data: \n",
    "    \n",
    "    Each record represents follow-up data for one breast cancer\n",
    "\tcase.  These are consecutive patients seen by Dr. Wolberg\n",
    "\tsince 1984, and include only those cases exhibiting invasive\n",
    "\tbreast cancer and no evidence of distant metastases at the\n",
    "\ttime of diagnosis. \n",
    "\n",
    "\tThe first 30 features are computed from a digitized image of a\n",
    "\tfine needle aspirate (FNA) of a breast mass.  They describe\n",
    "\tcharacteristics of the cell nuclei present in the image.\n",
    "\n",
    "We will start by importing the data and getting some basic notions about it."
   ]
  },
  {
   "cell_type": "code",
   "execution_count": 1,
   "metadata": {},
   "outputs": [],
   "source": [
    "import pandas as pd"
   ]
  },
  {
   "cell_type": "code",
   "execution_count": 2,
   "metadata": {},
   "outputs": [
    {
     "name": "stdout",
     "output_type": "stream",
     "text": [
      "<class 'pandas.core.frame.DataFrame'>\n",
      "RangeIndex: 569 entries, 0 to 568\n",
      "Data columns (total 32 columns):\n",
      "Id                         569 non-null int64\n",
      "Diagnosis                  569 non-null object\n",
      "radius mean                569 non-null float64\n",
      "texture mean               569 non-null float64\n",
      "perimeter mean             569 non-null float64\n",
      "area mean                  569 non-null float64\n",
      "smoothness mean            569 non-null float64\n",
      "compactness mean           569 non-null float64\n",
      "concavity mean             569 non-null float64\n",
      "concave points mean        569 non-null float64\n",
      "symmetry mean              569 non-null float64\n",
      "fractal dimension mean     569 non-null float64\n",
      "radius se                  569 non-null float64\n",
      "texture se                 569 non-null float64\n",
      "perimeter se               569 non-null float64\n",
      "area se                    569 non-null float64\n",
      "smoothness se              569 non-null float64\n",
      "compactness se             569 non-null float64\n",
      "concavity se               569 non-null float64\n",
      "concave points se          569 non-null float64\n",
      "symmetry se                569 non-null float64\n",
      "fractal dimension se       569 non-null float64\n",
      "radius worst               569 non-null float64\n",
      "texture worst              569 non-null float64\n",
      "perimeter worst            569 non-null float64\n",
      "area worst                 569 non-null float64\n",
      "smoothness worst           569 non-null float64\n",
      "compactness worst          569 non-null float64\n",
      "concavity worst            569 non-null float64\n",
      "concave points worst       569 non-null float64\n",
      "symmetry worst             569 non-null float64\n",
      "fractal dimension worst    569 non-null float64\n",
      "dtypes: float64(30), int64(1), object(1)\n",
      "memory usage: 142.3+ KB\n"
     ]
    }
   ],
   "source": [
    "cols = ['Id','Diagnosis','radius mean','texture mean','perimeter mean','area mean','smoothness mean','compactness mean','concavity mean','concave points mean','symmetry mean','fractal dimension mean','radius se','texture se','perimeter se','area se','smoothness se','compactness se','concavity se','concave points se','symmetry se','fractal dimension se','radius worst','texture worst','perimeter worst','area worst','smoothness worst','compactness worst','concavity worst','concave points worst','symmetry worst','fractal dimension worst']\n",
    "data = pd.read_csv('wdbc_data.csv', names = cols)\n",
    "data.info()"
   ]
  },
  {
   "cell_type": "markdown",
   "metadata": {},
   "source": [
    "From the above we note that there is no missing data so we can start working immedately with it without worrying about missing values. Let's take a look at the basic statistics for the whole data set."
   ]
  },
  {
   "cell_type": "code",
   "execution_count": 3,
   "metadata": {},
   "outputs": [
    {
     "data": {
      "text/html": [
       "<div>\n",
       "<style>\n",
       "    .dataframe thead tr:only-child th {\n",
       "        text-align: right;\n",
       "    }\n",
       "\n",
       "    .dataframe thead th {\n",
       "        text-align: left;\n",
       "    }\n",
       "\n",
       "    .dataframe tbody tr th {\n",
       "        vertical-align: top;\n",
       "    }\n",
       "</style>\n",
       "<table border=\"1\" class=\"dataframe\">\n",
       "  <thead>\n",
       "    <tr style=\"text-align: right;\">\n",
       "      <th></th>\n",
       "      <th>Id</th>\n",
       "      <th>radius mean</th>\n",
       "      <th>texture mean</th>\n",
       "      <th>perimeter mean</th>\n",
       "      <th>area mean</th>\n",
       "      <th>smoothness mean</th>\n",
       "      <th>compactness mean</th>\n",
       "      <th>concavity mean</th>\n",
       "      <th>concave points mean</th>\n",
       "      <th>symmetry mean</th>\n",
       "      <th>...</th>\n",
       "      <th>radius worst</th>\n",
       "      <th>texture worst</th>\n",
       "      <th>perimeter worst</th>\n",
       "      <th>area worst</th>\n",
       "      <th>smoothness worst</th>\n",
       "      <th>compactness worst</th>\n",
       "      <th>concavity worst</th>\n",
       "      <th>concave points worst</th>\n",
       "      <th>symmetry worst</th>\n",
       "      <th>fractal dimension worst</th>\n",
       "    </tr>\n",
       "  </thead>\n",
       "  <tbody>\n",
       "    <tr>\n",
       "      <th>count</th>\n",
       "      <td>5.690000e+02</td>\n",
       "      <td>569.000000</td>\n",
       "      <td>569.000000</td>\n",
       "      <td>569.000000</td>\n",
       "      <td>569.000000</td>\n",
       "      <td>569.000000</td>\n",
       "      <td>569.000000</td>\n",
       "      <td>569.000000</td>\n",
       "      <td>569.000000</td>\n",
       "      <td>569.000000</td>\n",
       "      <td>...</td>\n",
       "      <td>569.000000</td>\n",
       "      <td>569.000000</td>\n",
       "      <td>569.000000</td>\n",
       "      <td>569.000000</td>\n",
       "      <td>569.000000</td>\n",
       "      <td>569.000000</td>\n",
       "      <td>569.000000</td>\n",
       "      <td>569.000000</td>\n",
       "      <td>569.000000</td>\n",
       "      <td>569.000000</td>\n",
       "    </tr>\n",
       "    <tr>\n",
       "      <th>mean</th>\n",
       "      <td>3.037183e+07</td>\n",
       "      <td>14.127292</td>\n",
       "      <td>19.289649</td>\n",
       "      <td>91.969033</td>\n",
       "      <td>654.889104</td>\n",
       "      <td>0.096360</td>\n",
       "      <td>0.104341</td>\n",
       "      <td>0.088799</td>\n",
       "      <td>0.048919</td>\n",
       "      <td>0.181162</td>\n",
       "      <td>...</td>\n",
       "      <td>16.269190</td>\n",
       "      <td>25.677223</td>\n",
       "      <td>107.261213</td>\n",
       "      <td>880.583128</td>\n",
       "      <td>0.132369</td>\n",
       "      <td>0.254265</td>\n",
       "      <td>0.272188</td>\n",
       "      <td>0.114606</td>\n",
       "      <td>0.290076</td>\n",
       "      <td>0.083946</td>\n",
       "    </tr>\n",
       "    <tr>\n",
       "      <th>std</th>\n",
       "      <td>1.250206e+08</td>\n",
       "      <td>3.524049</td>\n",
       "      <td>4.301036</td>\n",
       "      <td>24.298981</td>\n",
       "      <td>351.914129</td>\n",
       "      <td>0.014064</td>\n",
       "      <td>0.052813</td>\n",
       "      <td>0.079720</td>\n",
       "      <td>0.038803</td>\n",
       "      <td>0.027414</td>\n",
       "      <td>...</td>\n",
       "      <td>4.833242</td>\n",
       "      <td>6.146258</td>\n",
       "      <td>33.602542</td>\n",
       "      <td>569.356993</td>\n",
       "      <td>0.022832</td>\n",
       "      <td>0.157336</td>\n",
       "      <td>0.208624</td>\n",
       "      <td>0.065732</td>\n",
       "      <td>0.061867</td>\n",
       "      <td>0.018061</td>\n",
       "    </tr>\n",
       "    <tr>\n",
       "      <th>min</th>\n",
       "      <td>8.670000e+03</td>\n",
       "      <td>6.981000</td>\n",
       "      <td>9.710000</td>\n",
       "      <td>43.790000</td>\n",
       "      <td>143.500000</td>\n",
       "      <td>0.052630</td>\n",
       "      <td>0.019380</td>\n",
       "      <td>0.000000</td>\n",
       "      <td>0.000000</td>\n",
       "      <td>0.106000</td>\n",
       "      <td>...</td>\n",
       "      <td>7.930000</td>\n",
       "      <td>12.020000</td>\n",
       "      <td>50.410000</td>\n",
       "      <td>185.200000</td>\n",
       "      <td>0.071170</td>\n",
       "      <td>0.027290</td>\n",
       "      <td>0.000000</td>\n",
       "      <td>0.000000</td>\n",
       "      <td>0.156500</td>\n",
       "      <td>0.055040</td>\n",
       "    </tr>\n",
       "    <tr>\n",
       "      <th>25%</th>\n",
       "      <td>8.692180e+05</td>\n",
       "      <td>11.700000</td>\n",
       "      <td>16.170000</td>\n",
       "      <td>75.170000</td>\n",
       "      <td>420.300000</td>\n",
       "      <td>0.086370</td>\n",
       "      <td>0.064920</td>\n",
       "      <td>0.029560</td>\n",
       "      <td>0.020310</td>\n",
       "      <td>0.161900</td>\n",
       "      <td>...</td>\n",
       "      <td>13.010000</td>\n",
       "      <td>21.080000</td>\n",
       "      <td>84.110000</td>\n",
       "      <td>515.300000</td>\n",
       "      <td>0.116600</td>\n",
       "      <td>0.147200</td>\n",
       "      <td>0.114500</td>\n",
       "      <td>0.064930</td>\n",
       "      <td>0.250400</td>\n",
       "      <td>0.071460</td>\n",
       "    </tr>\n",
       "    <tr>\n",
       "      <th>50%</th>\n",
       "      <td>9.060240e+05</td>\n",
       "      <td>13.370000</td>\n",
       "      <td>18.840000</td>\n",
       "      <td>86.240000</td>\n",
       "      <td>551.100000</td>\n",
       "      <td>0.095870</td>\n",
       "      <td>0.092630</td>\n",
       "      <td>0.061540</td>\n",
       "      <td>0.033500</td>\n",
       "      <td>0.179200</td>\n",
       "      <td>...</td>\n",
       "      <td>14.970000</td>\n",
       "      <td>25.410000</td>\n",
       "      <td>97.660000</td>\n",
       "      <td>686.500000</td>\n",
       "      <td>0.131300</td>\n",
       "      <td>0.211900</td>\n",
       "      <td>0.226700</td>\n",
       "      <td>0.099930</td>\n",
       "      <td>0.282200</td>\n",
       "      <td>0.080040</td>\n",
       "    </tr>\n",
       "    <tr>\n",
       "      <th>75%</th>\n",
       "      <td>8.813129e+06</td>\n",
       "      <td>15.780000</td>\n",
       "      <td>21.800000</td>\n",
       "      <td>104.100000</td>\n",
       "      <td>782.700000</td>\n",
       "      <td>0.105300</td>\n",
       "      <td>0.130400</td>\n",
       "      <td>0.130700</td>\n",
       "      <td>0.074000</td>\n",
       "      <td>0.195700</td>\n",
       "      <td>...</td>\n",
       "      <td>18.790000</td>\n",
       "      <td>29.720000</td>\n",
       "      <td>125.400000</td>\n",
       "      <td>1084.000000</td>\n",
       "      <td>0.146000</td>\n",
       "      <td>0.339100</td>\n",
       "      <td>0.382900</td>\n",
       "      <td>0.161400</td>\n",
       "      <td>0.317900</td>\n",
       "      <td>0.092080</td>\n",
       "    </tr>\n",
       "    <tr>\n",
       "      <th>max</th>\n",
       "      <td>9.113205e+08</td>\n",
       "      <td>28.110000</td>\n",
       "      <td>39.280000</td>\n",
       "      <td>188.500000</td>\n",
       "      <td>2501.000000</td>\n",
       "      <td>0.163400</td>\n",
       "      <td>0.345400</td>\n",
       "      <td>0.426800</td>\n",
       "      <td>0.201200</td>\n",
       "      <td>0.304000</td>\n",
       "      <td>...</td>\n",
       "      <td>36.040000</td>\n",
       "      <td>49.540000</td>\n",
       "      <td>251.200000</td>\n",
       "      <td>4254.000000</td>\n",
       "      <td>0.222600</td>\n",
       "      <td>1.058000</td>\n",
       "      <td>1.252000</td>\n",
       "      <td>0.291000</td>\n",
       "      <td>0.663800</td>\n",
       "      <td>0.207500</td>\n",
       "    </tr>\n",
       "  </tbody>\n",
       "</table>\n",
       "<p>8 rows × 31 columns</p>\n",
       "</div>"
      ],
      "text/plain": [
       "                 Id  radius mean  texture mean  perimeter mean    area mean  \\\n",
       "count  5.690000e+02   569.000000    569.000000      569.000000   569.000000   \n",
       "mean   3.037183e+07    14.127292     19.289649       91.969033   654.889104   \n",
       "std    1.250206e+08     3.524049      4.301036       24.298981   351.914129   \n",
       "min    8.670000e+03     6.981000      9.710000       43.790000   143.500000   \n",
       "25%    8.692180e+05    11.700000     16.170000       75.170000   420.300000   \n",
       "50%    9.060240e+05    13.370000     18.840000       86.240000   551.100000   \n",
       "75%    8.813129e+06    15.780000     21.800000      104.100000   782.700000   \n",
       "max    9.113205e+08    28.110000     39.280000      188.500000  2501.000000   \n",
       "\n",
       "       smoothness mean  compactness mean  concavity mean  concave points mean  \\\n",
       "count       569.000000        569.000000      569.000000           569.000000   \n",
       "mean          0.096360          0.104341        0.088799             0.048919   \n",
       "std           0.014064          0.052813        0.079720             0.038803   \n",
       "min           0.052630          0.019380        0.000000             0.000000   \n",
       "25%           0.086370          0.064920        0.029560             0.020310   \n",
       "50%           0.095870          0.092630        0.061540             0.033500   \n",
       "75%           0.105300          0.130400        0.130700             0.074000   \n",
       "max           0.163400          0.345400        0.426800             0.201200   \n",
       "\n",
       "       symmetry mean           ...             radius worst  texture worst  \\\n",
       "count     569.000000           ...               569.000000     569.000000   \n",
       "mean        0.181162           ...                16.269190      25.677223   \n",
       "std         0.027414           ...                 4.833242       6.146258   \n",
       "min         0.106000           ...                 7.930000      12.020000   \n",
       "25%         0.161900           ...                13.010000      21.080000   \n",
       "50%         0.179200           ...                14.970000      25.410000   \n",
       "75%         0.195700           ...                18.790000      29.720000   \n",
       "max         0.304000           ...                36.040000      49.540000   \n",
       "\n",
       "       perimeter worst   area worst  smoothness worst  compactness worst  \\\n",
       "count       569.000000   569.000000        569.000000         569.000000   \n",
       "mean        107.261213   880.583128          0.132369           0.254265   \n",
       "std          33.602542   569.356993          0.022832           0.157336   \n",
       "min          50.410000   185.200000          0.071170           0.027290   \n",
       "25%          84.110000   515.300000          0.116600           0.147200   \n",
       "50%          97.660000   686.500000          0.131300           0.211900   \n",
       "75%         125.400000  1084.000000          0.146000           0.339100   \n",
       "max         251.200000  4254.000000          0.222600           1.058000   \n",
       "\n",
       "       concavity worst  concave points worst  symmetry worst  \\\n",
       "count       569.000000            569.000000      569.000000   \n",
       "mean          0.272188              0.114606        0.290076   \n",
       "std           0.208624              0.065732        0.061867   \n",
       "min           0.000000              0.000000        0.156500   \n",
       "25%           0.114500              0.064930        0.250400   \n",
       "50%           0.226700              0.099930        0.282200   \n",
       "75%           0.382900              0.161400        0.317900   \n",
       "max           1.252000              0.291000        0.663800   \n",
       "\n",
       "       fractal dimension worst  \n",
       "count               569.000000  \n",
       "mean                  0.083946  \n",
       "std                   0.018061  \n",
       "min                   0.055040  \n",
       "25%                   0.071460  \n",
       "50%                   0.080040  \n",
       "75%                   0.092080  \n",
       "max                   0.207500  \n",
       "\n",
       "[8 rows x 31 columns]"
      ]
     },
     "execution_count": 3,
     "metadata": {},
     "output_type": "execute_result"
    }
   ],
   "source": [
    "data.describe()"
   ]
  },
  {
   "cell_type": "markdown",
   "metadata": {},
   "source": [
    "The feature Id is useless for our purposes so let us change it to use it as index for the data frame."
   ]
  },
  {
   "cell_type": "code",
   "execution_count": 4,
   "metadata": {},
   "outputs": [
    {
     "data": {
      "text/html": [
       "<div>\n",
       "<style>\n",
       "    .dataframe thead tr:only-child th {\n",
       "        text-align: right;\n",
       "    }\n",
       "\n",
       "    .dataframe thead th {\n",
       "        text-align: left;\n",
       "    }\n",
       "\n",
       "    .dataframe tbody tr th {\n",
       "        vertical-align: top;\n",
       "    }\n",
       "</style>\n",
       "<table border=\"1\" class=\"dataframe\">\n",
       "  <thead>\n",
       "    <tr style=\"text-align: right;\">\n",
       "      <th></th>\n",
       "      <th>radius mean</th>\n",
       "      <th>texture mean</th>\n",
       "      <th>perimeter mean</th>\n",
       "      <th>area mean</th>\n",
       "      <th>smoothness mean</th>\n",
       "      <th>compactness mean</th>\n",
       "      <th>concavity mean</th>\n",
       "      <th>concave points mean</th>\n",
       "      <th>symmetry mean</th>\n",
       "      <th>fractal dimension mean</th>\n",
       "      <th>...</th>\n",
       "      <th>radius worst</th>\n",
       "      <th>texture worst</th>\n",
       "      <th>perimeter worst</th>\n",
       "      <th>area worst</th>\n",
       "      <th>smoothness worst</th>\n",
       "      <th>compactness worst</th>\n",
       "      <th>concavity worst</th>\n",
       "      <th>concave points worst</th>\n",
       "      <th>symmetry worst</th>\n",
       "      <th>fractal dimension worst</th>\n",
       "    </tr>\n",
       "  </thead>\n",
       "  <tbody>\n",
       "    <tr>\n",
       "      <th>count</th>\n",
       "      <td>569.000000</td>\n",
       "      <td>569.000000</td>\n",
       "      <td>569.000000</td>\n",
       "      <td>569.000000</td>\n",
       "      <td>569.000000</td>\n",
       "      <td>569.000000</td>\n",
       "      <td>569.000000</td>\n",
       "      <td>569.000000</td>\n",
       "      <td>569.000000</td>\n",
       "      <td>569.000000</td>\n",
       "      <td>...</td>\n",
       "      <td>569.000000</td>\n",
       "      <td>569.000000</td>\n",
       "      <td>569.000000</td>\n",
       "      <td>569.000000</td>\n",
       "      <td>569.000000</td>\n",
       "      <td>569.000000</td>\n",
       "      <td>569.000000</td>\n",
       "      <td>569.000000</td>\n",
       "      <td>569.000000</td>\n",
       "      <td>569.000000</td>\n",
       "    </tr>\n",
       "    <tr>\n",
       "      <th>mean</th>\n",
       "      <td>14.127292</td>\n",
       "      <td>19.289649</td>\n",
       "      <td>91.969033</td>\n",
       "      <td>654.889104</td>\n",
       "      <td>0.096360</td>\n",
       "      <td>0.104341</td>\n",
       "      <td>0.088799</td>\n",
       "      <td>0.048919</td>\n",
       "      <td>0.181162</td>\n",
       "      <td>0.062798</td>\n",
       "      <td>...</td>\n",
       "      <td>16.269190</td>\n",
       "      <td>25.677223</td>\n",
       "      <td>107.261213</td>\n",
       "      <td>880.583128</td>\n",
       "      <td>0.132369</td>\n",
       "      <td>0.254265</td>\n",
       "      <td>0.272188</td>\n",
       "      <td>0.114606</td>\n",
       "      <td>0.290076</td>\n",
       "      <td>0.083946</td>\n",
       "    </tr>\n",
       "    <tr>\n",
       "      <th>std</th>\n",
       "      <td>3.524049</td>\n",
       "      <td>4.301036</td>\n",
       "      <td>24.298981</td>\n",
       "      <td>351.914129</td>\n",
       "      <td>0.014064</td>\n",
       "      <td>0.052813</td>\n",
       "      <td>0.079720</td>\n",
       "      <td>0.038803</td>\n",
       "      <td>0.027414</td>\n",
       "      <td>0.007060</td>\n",
       "      <td>...</td>\n",
       "      <td>4.833242</td>\n",
       "      <td>6.146258</td>\n",
       "      <td>33.602542</td>\n",
       "      <td>569.356993</td>\n",
       "      <td>0.022832</td>\n",
       "      <td>0.157336</td>\n",
       "      <td>0.208624</td>\n",
       "      <td>0.065732</td>\n",
       "      <td>0.061867</td>\n",
       "      <td>0.018061</td>\n",
       "    </tr>\n",
       "    <tr>\n",
       "      <th>min</th>\n",
       "      <td>6.981000</td>\n",
       "      <td>9.710000</td>\n",
       "      <td>43.790000</td>\n",
       "      <td>143.500000</td>\n",
       "      <td>0.052630</td>\n",
       "      <td>0.019380</td>\n",
       "      <td>0.000000</td>\n",
       "      <td>0.000000</td>\n",
       "      <td>0.106000</td>\n",
       "      <td>0.049960</td>\n",
       "      <td>...</td>\n",
       "      <td>7.930000</td>\n",
       "      <td>12.020000</td>\n",
       "      <td>50.410000</td>\n",
       "      <td>185.200000</td>\n",
       "      <td>0.071170</td>\n",
       "      <td>0.027290</td>\n",
       "      <td>0.000000</td>\n",
       "      <td>0.000000</td>\n",
       "      <td>0.156500</td>\n",
       "      <td>0.055040</td>\n",
       "    </tr>\n",
       "    <tr>\n",
       "      <th>25%</th>\n",
       "      <td>11.700000</td>\n",
       "      <td>16.170000</td>\n",
       "      <td>75.170000</td>\n",
       "      <td>420.300000</td>\n",
       "      <td>0.086370</td>\n",
       "      <td>0.064920</td>\n",
       "      <td>0.029560</td>\n",
       "      <td>0.020310</td>\n",
       "      <td>0.161900</td>\n",
       "      <td>0.057700</td>\n",
       "      <td>...</td>\n",
       "      <td>13.010000</td>\n",
       "      <td>21.080000</td>\n",
       "      <td>84.110000</td>\n",
       "      <td>515.300000</td>\n",
       "      <td>0.116600</td>\n",
       "      <td>0.147200</td>\n",
       "      <td>0.114500</td>\n",
       "      <td>0.064930</td>\n",
       "      <td>0.250400</td>\n",
       "      <td>0.071460</td>\n",
       "    </tr>\n",
       "    <tr>\n",
       "      <th>50%</th>\n",
       "      <td>13.370000</td>\n",
       "      <td>18.840000</td>\n",
       "      <td>86.240000</td>\n",
       "      <td>551.100000</td>\n",
       "      <td>0.095870</td>\n",
       "      <td>0.092630</td>\n",
       "      <td>0.061540</td>\n",
       "      <td>0.033500</td>\n",
       "      <td>0.179200</td>\n",
       "      <td>0.061540</td>\n",
       "      <td>...</td>\n",
       "      <td>14.970000</td>\n",
       "      <td>25.410000</td>\n",
       "      <td>97.660000</td>\n",
       "      <td>686.500000</td>\n",
       "      <td>0.131300</td>\n",
       "      <td>0.211900</td>\n",
       "      <td>0.226700</td>\n",
       "      <td>0.099930</td>\n",
       "      <td>0.282200</td>\n",
       "      <td>0.080040</td>\n",
       "    </tr>\n",
       "    <tr>\n",
       "      <th>75%</th>\n",
       "      <td>15.780000</td>\n",
       "      <td>21.800000</td>\n",
       "      <td>104.100000</td>\n",
       "      <td>782.700000</td>\n",
       "      <td>0.105300</td>\n",
       "      <td>0.130400</td>\n",
       "      <td>0.130700</td>\n",
       "      <td>0.074000</td>\n",
       "      <td>0.195700</td>\n",
       "      <td>0.066120</td>\n",
       "      <td>...</td>\n",
       "      <td>18.790000</td>\n",
       "      <td>29.720000</td>\n",
       "      <td>125.400000</td>\n",
       "      <td>1084.000000</td>\n",
       "      <td>0.146000</td>\n",
       "      <td>0.339100</td>\n",
       "      <td>0.382900</td>\n",
       "      <td>0.161400</td>\n",
       "      <td>0.317900</td>\n",
       "      <td>0.092080</td>\n",
       "    </tr>\n",
       "    <tr>\n",
       "      <th>max</th>\n",
       "      <td>28.110000</td>\n",
       "      <td>39.280000</td>\n",
       "      <td>188.500000</td>\n",
       "      <td>2501.000000</td>\n",
       "      <td>0.163400</td>\n",
       "      <td>0.345400</td>\n",
       "      <td>0.426800</td>\n",
       "      <td>0.201200</td>\n",
       "      <td>0.304000</td>\n",
       "      <td>0.097440</td>\n",
       "      <td>...</td>\n",
       "      <td>36.040000</td>\n",
       "      <td>49.540000</td>\n",
       "      <td>251.200000</td>\n",
       "      <td>4254.000000</td>\n",
       "      <td>0.222600</td>\n",
       "      <td>1.058000</td>\n",
       "      <td>1.252000</td>\n",
       "      <td>0.291000</td>\n",
       "      <td>0.663800</td>\n",
       "      <td>0.207500</td>\n",
       "    </tr>\n",
       "  </tbody>\n",
       "</table>\n",
       "<p>8 rows × 30 columns</p>\n",
       "</div>"
      ],
      "text/plain": [
       "       radius mean  texture mean  perimeter mean    area mean  \\\n",
       "count   569.000000    569.000000      569.000000   569.000000   \n",
       "mean     14.127292     19.289649       91.969033   654.889104   \n",
       "std       3.524049      4.301036       24.298981   351.914129   \n",
       "min       6.981000      9.710000       43.790000   143.500000   \n",
       "25%      11.700000     16.170000       75.170000   420.300000   \n",
       "50%      13.370000     18.840000       86.240000   551.100000   \n",
       "75%      15.780000     21.800000      104.100000   782.700000   \n",
       "max      28.110000     39.280000      188.500000  2501.000000   \n",
       "\n",
       "       smoothness mean  compactness mean  concavity mean  concave points mean  \\\n",
       "count       569.000000        569.000000      569.000000           569.000000   \n",
       "mean          0.096360          0.104341        0.088799             0.048919   \n",
       "std           0.014064          0.052813        0.079720             0.038803   \n",
       "min           0.052630          0.019380        0.000000             0.000000   \n",
       "25%           0.086370          0.064920        0.029560             0.020310   \n",
       "50%           0.095870          0.092630        0.061540             0.033500   \n",
       "75%           0.105300          0.130400        0.130700             0.074000   \n",
       "max           0.163400          0.345400        0.426800             0.201200   \n",
       "\n",
       "       symmetry mean  fractal dimension mean           ...             \\\n",
       "count     569.000000              569.000000           ...              \n",
       "mean        0.181162                0.062798           ...              \n",
       "std         0.027414                0.007060           ...              \n",
       "min         0.106000                0.049960           ...              \n",
       "25%         0.161900                0.057700           ...              \n",
       "50%         0.179200                0.061540           ...              \n",
       "75%         0.195700                0.066120           ...              \n",
       "max         0.304000                0.097440           ...              \n",
       "\n",
       "       radius worst  texture worst  perimeter worst   area worst  \\\n",
       "count    569.000000     569.000000       569.000000   569.000000   \n",
       "mean      16.269190      25.677223       107.261213   880.583128   \n",
       "std        4.833242       6.146258        33.602542   569.356993   \n",
       "min        7.930000      12.020000        50.410000   185.200000   \n",
       "25%       13.010000      21.080000        84.110000   515.300000   \n",
       "50%       14.970000      25.410000        97.660000   686.500000   \n",
       "75%       18.790000      29.720000       125.400000  1084.000000   \n",
       "max       36.040000      49.540000       251.200000  4254.000000   \n",
       "\n",
       "       smoothness worst  compactness worst  concavity worst  \\\n",
       "count        569.000000         569.000000       569.000000   \n",
       "mean           0.132369           0.254265         0.272188   \n",
       "std            0.022832           0.157336         0.208624   \n",
       "min            0.071170           0.027290         0.000000   \n",
       "25%            0.116600           0.147200         0.114500   \n",
       "50%            0.131300           0.211900         0.226700   \n",
       "75%            0.146000           0.339100         0.382900   \n",
       "max            0.222600           1.058000         1.252000   \n",
       "\n",
       "       concave points worst  symmetry worst  fractal dimension worst  \n",
       "count            569.000000      569.000000               569.000000  \n",
       "mean               0.114606        0.290076                 0.083946  \n",
       "std                0.065732        0.061867                 0.018061  \n",
       "min                0.000000        0.156500                 0.055040  \n",
       "25%                0.064930        0.250400                 0.071460  \n",
       "50%                0.099930        0.282200                 0.080040  \n",
       "75%                0.161400        0.317900                 0.092080  \n",
       "max                0.291000        0.663800                 0.207500  \n",
       "\n",
       "[8 rows x 30 columns]"
      ]
     },
     "execution_count": 4,
     "metadata": {},
     "output_type": "execute_result"
    }
   ],
   "source": [
    "data.set_index('Id', inplace=True)\n",
    "data.describe()"
   ]
  },
  {
   "cell_type": "markdown",
   "metadata": {},
   "source": [
    "From the above table we see that for the perimeter feature we have the following statistics for the mean, standard deviation and median (represented by the 50th percentile):"
   ]
  },
  {
   "cell_type": "code",
   "execution_count": 5,
   "metadata": {},
   "outputs": [
    {
     "data": {
      "text/html": [
       "<div>\n",
       "<style>\n",
       "    .dataframe thead tr:only-child th {\n",
       "        text-align: right;\n",
       "    }\n",
       "\n",
       "    .dataframe thead th {\n",
       "        text-align: left;\n",
       "    }\n",
       "\n",
       "    .dataframe tbody tr th {\n",
       "        vertical-align: top;\n",
       "    }\n",
       "</style>\n",
       "<table border=\"1\" class=\"dataframe\">\n",
       "  <thead>\n",
       "    <tr style=\"text-align: right;\">\n",
       "      <th></th>\n",
       "      <th>perimeter mean</th>\n",
       "      <th>perimeter se</th>\n",
       "      <th>perimeter worst</th>\n",
       "    </tr>\n",
       "  </thead>\n",
       "  <tbody>\n",
       "    <tr>\n",
       "      <th>count</th>\n",
       "      <td>569.000000</td>\n",
       "      <td>569.000000</td>\n",
       "      <td>569.000000</td>\n",
       "    </tr>\n",
       "    <tr>\n",
       "      <th>mean</th>\n",
       "      <td>91.969033</td>\n",
       "      <td>2.866059</td>\n",
       "      <td>107.261213</td>\n",
       "    </tr>\n",
       "    <tr>\n",
       "      <th>std</th>\n",
       "      <td>24.298981</td>\n",
       "      <td>2.021855</td>\n",
       "      <td>33.602542</td>\n",
       "    </tr>\n",
       "    <tr>\n",
       "      <th>min</th>\n",
       "      <td>43.790000</td>\n",
       "      <td>0.757000</td>\n",
       "      <td>50.410000</td>\n",
       "    </tr>\n",
       "    <tr>\n",
       "      <th>25%</th>\n",
       "      <td>75.170000</td>\n",
       "      <td>1.606000</td>\n",
       "      <td>84.110000</td>\n",
       "    </tr>\n",
       "    <tr>\n",
       "      <th>50%</th>\n",
       "      <td>86.240000</td>\n",
       "      <td>2.287000</td>\n",
       "      <td>97.660000</td>\n",
       "    </tr>\n",
       "    <tr>\n",
       "      <th>75%</th>\n",
       "      <td>104.100000</td>\n",
       "      <td>3.357000</td>\n",
       "      <td>125.400000</td>\n",
       "    </tr>\n",
       "    <tr>\n",
       "      <th>max</th>\n",
       "      <td>188.500000</td>\n",
       "      <td>21.980000</td>\n",
       "      <td>251.200000</td>\n",
       "    </tr>\n",
       "  </tbody>\n",
       "</table>\n",
       "</div>"
      ],
      "text/plain": [
       "       perimeter mean  perimeter se  perimeter worst\n",
       "count      569.000000    569.000000       569.000000\n",
       "mean        91.969033      2.866059       107.261213\n",
       "std         24.298981      2.021855        33.602542\n",
       "min         43.790000      0.757000        50.410000\n",
       "25%         75.170000      1.606000        84.110000\n",
       "50%         86.240000      2.287000        97.660000\n",
       "75%        104.100000      3.357000       125.400000\n",
       "max        188.500000     21.980000       251.200000"
      ]
     },
     "execution_count": 5,
     "metadata": {},
     "output_type": "execute_result"
    }
   ],
   "source": [
    "data[['perimeter mean', 'perimeter se', 'perimeter worst']].describe()"
   ]
  },
  {
   "cell_type": "markdown",
   "metadata": {},
   "source": [
    "## Is the radius normally distributed?"
   ]
  },
  {
   "cell_type": "markdown",
   "metadata": {},
   "source": [
    "Let's now see if the first feature in the data set, radius, is normally distributed."
   ]
  },
  {
   "cell_type": "code",
   "execution_count": 6,
   "metadata": {},
   "outputs": [],
   "source": [
    "import scipy.stats as stats\n",
    "import matplotlib.pyplot as plt\n",
    "%matplotlib inline"
   ]
  },
  {
   "cell_type": "markdown",
   "metadata": {},
   "source": [
    "We first get the values for the radius in an array."
   ]
  },
  {
   "cell_type": "code",
   "execution_count": 7,
   "metadata": {},
   "outputs": [],
   "source": [
    "z=data.iloc[:,1].values"
   ]
  },
  {
   "cell_type": "markdown",
   "metadata": {},
   "source": [
    "We can now use a Q-Q plot to compare the quantiles. If the distributions we are comparing are similar, then the points in the plot should appear close to the line $y=x$ and should resemble a straight line."
   ]
  },
  {
   "cell_type": "code",
   "execution_count": 8,
   "metadata": {},
   "outputs": [
    {
     "data": {
      "image/png": "[encoded data removed]",
      "text/plain": [
       "<matplotlib.figure.Figure at 0x10b252160>"
      ]
     },
     "metadata": {},
     "output_type": "display_data"
    }
   ],
   "source": [
    "stats.probplot(z, dist=\"norm\", plot=plt)\n",
    "plt.title(\"Normal Q-Q plot\")\n",
    "plt.show()"
   ]
  },
  {
   "cell_type": "markdown",
   "metadata": {},
   "source": [
    "From the above plot, we deduce that the data for the radius mean does not follow a normal distribution. Let's quantify this by using scipy's built in test. From the documentation we know that \"It is based on which is based on D’Agostino and Pearson’s test that combines skew and kurtosis to produce an omnibus test of normality.\" This function tests the null hypothesis that a sample comes from a normal distribution. See https://docs.scipy.org/doc/scipy/reference/generated/scipy.stats.normaltest.html"
   ]
  },
  {
   "cell_type": "code",
   "execution_count": 9,
   "metadata": {},
   "outputs": [
    {
     "name": "stdout",
     "output_type": "stream",
     "text": [
      "p = 1.28617e-16\n",
      "The null hypothesis can be rejected\n"
     ]
    }
   ],
   "source": [
    "k2, p = stats.normaltest(z)\n",
    "alpha = 1e-3\n",
    "print(\"p = {:g}\".format(p))\n",
    "if p < alpha:  # null hypothesis: x comes from a normal distribution\n",
    "     print(\"The null hypothesis can be rejected\")\n",
    "else:\n",
    "     print(\"The null hypothesis cannot be rejected\")"
   ]
  },
  {
   "cell_type": "markdown",
   "metadata": {},
   "source": [
    "Hence we can be sure that the data does not follow a normal distribution. Let's take a look at the histogram."
   ]
  },
  {
   "cell_type": "code",
   "execution_count": 10,
   "metadata": {},
   "outputs": [
    {
     "data": {
      "image/png": "[encoded data removed]",
      "text/plain": [
       "<matplotlib.figure.Figure at 0x10e93fcc0>"
      ]
     },
     "metadata": {},
     "output_type": "display_data"
    }
   ],
   "source": [
    "data['radius mean'].hist()\n",
    "plt.show()"
   ]
  },
  {
   "cell_type": "markdown",
   "metadata": {},
   "source": [
    "The histogram shows that the data is skewed to the right. Based on the histogram we suggest a Weibull distribution would be able to describe the data better. However, we would prefer to use the Box-Cox transformation to normalize the data and look at the Q-Q plot for the transformed data."
   ]
  },
  {
   "cell_type": "code",
   "execution_count": 11,
   "metadata": {},
   "outputs": [
    {
     "data": {
      "image/png": "[encoded data removed]",
      "text/plain": [
       "<matplotlib.figure.Figure at 0x10e9484a8>"
      ]
     },
     "metadata": {},
     "output_type": "display_data"
    }
   ],
   "source": [
    "z_norm, _ = stats.boxcox(z)\n",
    "stats.probplot(z_norm, dist=\"norm\", plot=plt)\n",
    "plt.title(\"Normal Q-Q plot\")\n",
    "plt.show()"
   ]
  },
  {
   "cell_type": "markdown",
   "metadata": {},
   "source": [
    "The above Q-Q plot is a lot closer to what we would expect with normally distributed data. Let's quantify this using the normaltest."
   ]
  },
  {
   "cell_type": "code",
   "execution_count": 13,
   "metadata": {},
   "outputs": [
    {
     "name": "stdout",
     "output_type": "stream",
     "text": [
      "p = 0.88588\n",
      "The null hypothesis cannot be rejected\n"
     ]
    }
   ],
   "source": [
    "k2, p = stats.normaltest(z_norm)\n",
    "alpha = 1e-3\n",
    "print(\"p = {:g}\".format(p))\n",
    "if p < alpha:  # null hypothesis: x comes from a normal distribution\n",
    "     print(\"The null hypothesis can be rejected\")\n",
    "else:\n",
    "     print(\"The null hypothesis cannot be rejected\")"
   ]
  },
  {
   "cell_type": "markdown",
   "metadata": {},
   "source": [
    "Hence, we have transformed the data to follow a normal distribution and we don't need to use a Weibull distribution anymore."
   ]
  },
  {
   "cell_type": "markdown",
   "metadata": {},
   "source": [
    "## Training classifiers"
   ]
  },
  {
   "cell_type": "markdown",
   "metadata": {},
   "source": [
    "Given the data and the problem at hand, we will train a decision tree and a SVM to predict if a tumour will be malignant or benign. We will compare the accuracy for both models."
   ]
  },
  {
   "cell_type": "code",
   "execution_count": 14,
   "metadata": {},
   "outputs": [],
   "source": [
    "from sklearn.model_selection import train_test_split\n",
    "from sklearn.tree import DecisionTreeClassifier\n",
    "from sklearn.metrics import accuracy_score\n",
    "from sklearn import tree\n",
    "from sklearn.svm import SVC"
   ]
  },
  {
   "cell_type": "markdown",
   "metadata": {},
   "source": [
    "First we will split the data in two: a training and a test set. We will use this sets to train all the following models."
   ]
  },
  {
   "cell_type": "code",
   "execution_count": 15,
   "metadata": {},
   "outputs": [],
   "source": [
    "X = data.values[:, 1:31]\n",
    "Y = data.values[:, 0]\n",
    "X_train, X_test, y_train, y_test = train_test_split(X, Y, test_size = 0.3, random_state = 100)"
   ]
  },
  {
   "cell_type": "markdown",
   "metadata": {},
   "source": [
    "### Training a decision tree"
   ]
  },
  {
   "cell_type": "markdown",
   "metadata": {},
   "source": [
    "Trees are usually a good first choice for a quick exploratory analysis and to create a quick model that is able to give reasonable predictions. It is also very helpful to know which features might be the most relevant for the probelm in hand.\n",
    "\n",
    "We will train a tree using the gini index as opposed to enthropy. Most of the times it doesn't matter which one we use, and for complex calculations, gini index is simpler to compute. To keep the tree as simple as possible we will select a maximum depth of 3. Finally, we will set the minimum number of samples required to be at a leaf node to 5 to make a node significant."
   ]
  },
  {
   "cell_type": "code",
   "execution_count": 16,
   "metadata": {},
   "outputs": [
    {
     "data": {
      "text/plain": [
       "DecisionTreeClassifier(class_weight=None, criterion='gini', max_depth=3,\n",
       "            max_features=None, max_leaf_nodes=None,\n",
       "            min_impurity_decrease=0.0, min_impurity_split=None,\n",
       "            min_samples_leaf=5, min_samples_split=2,\n",
       "            min_weight_fraction_leaf=0.0, presort=False, random_state=100,\n",
       "            splitter='best')"
      ]
     },
     "execution_count": 16,
     "metadata": {},
     "output_type": "execute_result"
    }
   ],
   "source": [
    "clf_gini = DecisionTreeClassifier(criterion = \"gini\", random_state = 100, max_depth=3, min_samples_leaf=5)\n",
    "clf_gini.fit(X_train, y_train)"
   ]
  },
  {
   "cell_type": "markdown",
   "metadata": {},
   "source": [
    "It is very easy to visualize a tree:"
   ]
  },
  {
   "cell_type": "code",
   "execution_count": 28,
   "metadata": {},
   "outputs": [
    {
     "data": {
      "image/svg+xml": [
       "<?xml version=\"1.0\" encoding=\"UTF-8\" standalone=\"no\"?>\n",
       "<!DOCTYPE svg PUBLIC \"-//W3C//DTD SVG 1.1//EN\"\n",
       " \"http://www.w3.org/Graphics/SVG/1.1/DTD/svg11.dtd\">\n",
       "<!-- Generated by graphviz version 2.40.1 (20161225.0304)\n",
       " -->\n",
       "<!-- Title: Tree Pages: 1 -->\n",
       "<svg width=\"790pt\" height=\"467pt\"\n",
       " viewBox=\"0.00 0.00 790.10 467.20\" xmlns=\"http://www.w3.org/2000/svg\" xmlns:xlink=\"http://www.w3.org/1999/xlink\">\n",
       "<g id=\"graph0\" class=\"graph\" transform=\"scale(1 1) rotate(0) translate(4 463.2)\">\n",
       "<title>Tree</title>\n",
       "<polygon fill=\"#ffffff\" stroke=\"transparent\" points=\"-4,4 -4,-463.2 786.103,-463.2 786.103,4 -4,4\"/>\n",
       "<!-- 0 -->\n",
       "<g id=\"node1\" class=\"node\">\n",
       "<title>0</title>\n",
       "<path fill=\"#e58139\" fill-opacity=\"0.439216\" stroke=\"#000000\" d=\"M521.6689,-459.2C521.6689,-459.2 346.4341,-459.2 346.4341,-459.2 340.4341,-459.2 334.4341,-453.2 334.4341,-447.2 334.4341,-447.2 334.4341,-379.2 334.4341,-379.2 334.4341,-373.2 340.4341,-367.2 346.4341,-367.2 346.4341,-367.2 521.6689,-367.2 521.6689,-367.2 527.6689,-367.2 533.6689,-373.2 533.6689,-379.2 533.6689,-379.2 533.6689,-447.2 533.6689,-447.2 533.6689,-453.2 527.6689,-459.2 521.6689,-459.2\"/>\n",
       "<text text-anchor=\"start\" x=\"342.243\" y=\"-442.6\" font-family=\"Helvetica,sans-Serif\" font-size=\"14.00\" fill=\"#000000\">concave points worst ≤ 0.144</text>\n",
       "<text text-anchor=\"start\" x=\"401.5652\" y=\"-425.8\" font-family=\"Helvetica,sans-Serif\" font-size=\"14.00\" fill=\"#000000\">gini = 0.46</text>\n",
       "<text text-anchor=\"start\" x=\"388.3422\" y=\"-409\" font-family=\"Helvetica,sans-Serif\" font-size=\"14.00\" fill=\"#000000\">samples = 398</text>\n",
       "<text text-anchor=\"start\" x=\"378.2174\" y=\"-392.2\" font-family=\"Helvetica,sans-Serif\" font-size=\"14.00\" fill=\"#000000\">value = [255, 143]</text>\n",
       "<text text-anchor=\"start\" x=\"405.4607\" y=\"-375.4\" font-family=\"Helvetica,sans-Serif\" font-size=\"14.00\" fill=\"#000000\">class = B</text>\n",
       "</g>\n",
       "<!-- 1 -->\n",
       "<g id=\"node2\" class=\"node\">\n",
       "<title>1</title>\n",
       "<path fill=\"#e58139\" fill-opacity=\"0.905882\" stroke=\"#000000\" d=\"M415.662,-331.2C415.662,-331.2 296.441,-331.2 296.441,-331.2 290.441,-331.2 284.441,-325.2 284.441,-319.2 284.441,-319.2 284.441,-251.2 284.441,-251.2 284.441,-245.2 290.441,-239.2 296.441,-239.2 296.441,-239.2 415.662,-239.2 415.662,-239.2 421.662,-239.2 427.662,-245.2 427.662,-251.2 427.662,-251.2 427.662,-319.2 427.662,-319.2 427.662,-325.2 421.662,-331.2 415.662,-331.2\"/>\n",
       "<text text-anchor=\"start\" x=\"292.2465\" y=\"-314.6\" font-family=\"Helvetica,sans-Serif\" font-size=\"14.00\" fill=\"#000000\">area mean ≤ 696.25</text>\n",
       "<text text-anchor=\"start\" x=\"319.6739\" y=\"-297.8\" font-family=\"Helvetica,sans-Serif\" font-size=\"14.00\" fill=\"#000000\">gini = 0.155</text>\n",
       "<text text-anchor=\"start\" x=\"310.3422\" y=\"-281\" font-family=\"Helvetica,sans-Serif\" font-size=\"14.00\" fill=\"#000000\">samples = 271</text>\n",
       "<text text-anchor=\"start\" x=\"304.1087\" y=\"-264.2\" font-family=\"Helvetica,sans-Serif\" font-size=\"14.00\" fill=\"#000000\">value = [248, 23]</text>\n",
       "<text text-anchor=\"start\" x=\"327.4607\" y=\"-247.4\" font-family=\"Helvetica,sans-Serif\" font-size=\"14.00\" fill=\"#000000\">class = B</text>\n",
       "</g>\n",
       "<!-- 0&#45;&gt;1 -->\n",
       "<g id=\"edge1\" class=\"edge\">\n",
       "<title>0&#45;&gt;1</title>\n",
       "<path fill=\"none\" stroke=\"#000000\" d=\"M405.8917,-366.9891C400.5346,-358.1979 394.881,-348.9202 389.3812,-339.8949\"/>\n",
       "<polygon fill=\"#000000\" stroke=\"#000000\" points=\"392.3625,-338.0612 384.17,-331.3431 386.3849,-341.7038 392.3625,-338.0612\"/>\n",
       "<text text-anchor=\"middle\" x=\"378.2732\" y=\"-351.4377\" font-family=\"Helvetica,sans-Serif\" font-size=\"14.00\" fill=\"#000000\">True</text>\n",
       "</g>\n",
       "<!-- 8 -->\n",
       "<g id=\"node9\" class=\"node\">\n",
       "<title>8</title>\n",
       "<path fill=\"#399de5\" fill-opacity=\"0.941176\" stroke=\"#000000\" d=\"M568.3112,-331.2C568.3112,-331.2 457.7918,-331.2 457.7918,-331.2 451.7918,-331.2 445.7918,-325.2 445.7918,-319.2 445.7918,-319.2 445.7918,-251.2 445.7918,-251.2 445.7918,-245.2 451.7918,-239.2 457.7918,-239.2 457.7918,-239.2 568.3112,-239.2 568.3112,-239.2 574.3112,-239.2 580.3112,-245.2 580.3112,-251.2 580.3112,-251.2 580.3112,-319.2 580.3112,-319.2 580.3112,-325.2 574.3112,-331.2 568.3112,-331.2\"/>\n",
       "<text text-anchor=\"start\" x=\"453.9218\" y=\"-314.6\" font-family=\"Helvetica,sans-Serif\" font-size=\"14.00\" fill=\"#000000\">area worst ≤ 710.2</text>\n",
       "<text text-anchor=\"start\" x=\"476.6739\" y=\"-297.8\" font-family=\"Helvetica,sans-Serif\" font-size=\"14.00\" fill=\"#000000\">gini = 0.104</text>\n",
       "<text text-anchor=\"start\" x=\"467.3422\" y=\"-281\" font-family=\"Helvetica,sans-Serif\" font-size=\"14.00\" fill=\"#000000\">samples = 127</text>\n",
       "<text text-anchor=\"start\" x=\"465\" y=\"-264.2\" font-family=\"Helvetica,sans-Serif\" font-size=\"14.00\" fill=\"#000000\">value = [7, 120]</text>\n",
       "<text text-anchor=\"start\" x=\"483.2987\" y=\"-247.4\" font-family=\"Helvetica,sans-Serif\" font-size=\"14.00\" fill=\"#000000\">class = M</text>\n",
       "</g>\n",
       "<!-- 0&#45;&gt;8 -->\n",
       "<g id=\"edge8\" class=\"edge\">\n",
       "<title>0&#45;&gt;8</title>\n",
       "<path fill=\"none\" stroke=\"#000000\" d=\"M462.5723,-366.9891C467.9981,-358.1979 473.7242,-348.9202 479.2945,-339.8949\"/>\n",
       "<polygon fill=\"#000000\" stroke=\"#000000\" points=\"482.2988,-341.6911 484.5726,-331.3431 476.342,-338.0146 482.2988,-341.6911\"/>\n",
       "<text text-anchor=\"middle\" x=\"490.3313\" y=\"-351.4708\" font-family=\"Helvetica,sans-Serif\" font-size=\"14.00\" fill=\"#000000\">False</text>\n",
       "</g>\n",
       "<!-- 2 -->\n",
       "<g id=\"node3\" class=\"node\">\n",
       "<title>2</title>\n",
       "<path fill=\"#e58139\" fill-opacity=\"0.972549\" stroke=\"#000000\" d=\"M249.6689,-203.2C249.6689,-203.2 74.4341,-203.2 74.4341,-203.2 68.4341,-203.2 62.4341,-197.2 62.4341,-191.2 62.4341,-191.2 62.4341,-123.2 62.4341,-123.2 62.4341,-117.2 68.4341,-111.2 74.4341,-111.2 74.4341,-111.2 249.6689,-111.2 249.6689,-111.2 255.6689,-111.2 261.6689,-117.2 261.6689,-123.2 261.6689,-123.2 261.6689,-191.2 261.6689,-191.2 261.6689,-197.2 255.6689,-203.2 249.6689,-203.2\"/>\n",
       "<text text-anchor=\"start\" x=\"70.243\" y=\"-186.6\" font-family=\"Helvetica,sans-Serif\" font-size=\"14.00\" fill=\"#000000\">concave points worst ≤ 0.122</text>\n",
       "<text text-anchor=\"start\" x=\"125.6739\" y=\"-169.8\" font-family=\"Helvetica,sans-Serif\" font-size=\"14.00\" fill=\"#000000\">gini = 0.055</text>\n",
       "<text text-anchor=\"start\" x=\"116.3422\" y=\"-153\" font-family=\"Helvetica,sans-Serif\" font-size=\"14.00\" fill=\"#000000\">samples = 249</text>\n",
       "<text text-anchor=\"start\" x=\"114\" y=\"-136.2\" font-family=\"Helvetica,sans-Serif\" font-size=\"14.00\" fill=\"#000000\">value = [242, 7]</text>\n",
       "<text text-anchor=\"start\" x=\"133.4607\" y=\"-119.4\" font-family=\"Helvetica,sans-Serif\" font-size=\"14.00\" fill=\"#000000\">class = B</text>\n",
       "</g>\n",
       "<!-- 1&#45;&gt;2 -->\n",
       "<g id=\"edge2\" class=\"edge\">\n",
       "<title>1&#45;&gt;2</title>\n",
       "<path fill=\"none\" stroke=\"#000000\" d=\"M286.2871,-239.1699C271.3473,-229.3127 255.4695,-218.8366 240.2355,-208.7853\"/>\n",
       "<polygon fill=\"#000000\" stroke=\"#000000\" points=\"242.123,-205.8375 231.8485,-203.2516 238.2679,-211.6803 242.123,-205.8375\"/>\n",
       "</g>\n",
       "<!-- 5 -->\n",
       "<g id=\"node6\" class=\"node\">\n",
       "<title>5</title>\n",
       "<path fill=\"#399de5\" fill-opacity=\"0.623529\" stroke=\"#000000\" d=\"M426.4432,-203.2C426.4432,-203.2 291.6598,-203.2 291.6598,-203.2 285.6598,-203.2 279.6598,-197.2 279.6598,-191.2 279.6598,-191.2 279.6598,-123.2 279.6598,-123.2 279.6598,-117.2 285.6598,-111.2 291.6598,-111.2 291.6598,-111.2 426.4432,-111.2 426.4432,-111.2 432.4432,-111.2 438.4432,-117.2 438.4432,-123.2 438.4432,-123.2 438.4432,-191.2 438.4432,-191.2 438.4432,-197.2 432.4432,-203.2 426.4432,-203.2\"/>\n",
       "<text text-anchor=\"start\" x=\"287.8559\" y=\"-186.6\" font-family=\"Helvetica,sans-Serif\" font-size=\"14.00\" fill=\"#000000\">texture mean ≤ 18.495</text>\n",
       "<text text-anchor=\"start\" x=\"322.6739\" y=\"-169.8\" font-family=\"Helvetica,sans-Serif\" font-size=\"14.00\" fill=\"#000000\">gini = 0.397</text>\n",
       "<text text-anchor=\"start\" x=\"317.2335\" y=\"-153\" font-family=\"Helvetica,sans-Serif\" font-size=\"14.00\" fill=\"#000000\">samples = 22</text>\n",
       "<text text-anchor=\"start\" x=\"314.8913\" y=\"-136.2\" font-family=\"Helvetica,sans-Serif\" font-size=\"14.00\" fill=\"#000000\">value = [6, 16]</text>\n",
       "<text text-anchor=\"start\" x=\"329.2987\" y=\"-119.4\" font-family=\"Helvetica,sans-Serif\" font-size=\"14.00\" fill=\"#000000\">class = M</text>\n",
       "</g>\n",
       "<!-- 1&#45;&gt;5 -->\n",
       "<g id=\"edge5\" class=\"edge\">\n",
       "<title>1&#45;&gt;5</title>\n",
       "<path fill=\"none\" stroke=\"#000000\" d=\"M357.1346,-238.9891C357.3279,-230.7417 357.5312,-222.0661 357.7303,-213.5724\"/>\n",
       "<polygon fill=\"#000000\" stroke=\"#000000\" points=\"361.2347,-213.4224 357.97,-203.3431 354.2366,-213.2583 361.2347,-213.4224\"/>\n",
       "</g>\n",
       "<!-- 3 -->\n",
       "<g id=\"node4\" class=\"node\">\n",
       "<title>3</title>\n",
       "<path fill=\"#e58139\" fill-opacity=\"0.992157\" stroke=\"#000000\" d=\"M100.1545,-75.3003C100.1545,-75.3003 11.9485,-75.3003 11.9485,-75.3003 5.9485,-75.3003 -.0515,-69.3003 -.0515,-63.3003 -.0515,-63.3003 -.0515,-11.8997 -.0515,-11.8997 -.0515,-5.8997 5.9485,.1003 11.9485,.1003 11.9485,.1003 100.1545,.1003 100.1545,.1003 106.1545,.1003 112.1545,-5.8997 112.1545,-11.8997 112.1545,-11.8997 112.1545,-63.3003 112.1545,-63.3003 112.1545,-69.3003 106.1545,-75.3003 100.1545,-75.3003\"/>\n",
       "<text text-anchor=\"start\" x=\"19.6739\" y=\"-58.6\" font-family=\"Helvetica,sans-Serif\" font-size=\"14.00\" fill=\"#000000\">gini = 0.017</text>\n",
       "<text text-anchor=\"start\" x=\"10.3422\" y=\"-41.8\" font-family=\"Helvetica,sans-Serif\" font-size=\"14.00\" fill=\"#000000\">samples = 228</text>\n",
       "<text text-anchor=\"start\" x=\"8\" y=\"-25\" font-family=\"Helvetica,sans-Serif\" font-size=\"14.00\" fill=\"#000000\">value = [226, 2]</text>\n",
       "<text text-anchor=\"start\" x=\"27.4607\" y=\"-8.2\" font-family=\"Helvetica,sans-Serif\" font-size=\"14.00\" fill=\"#000000\">class = B</text>\n",
       "</g>\n",
       "<!-- 2&#45;&gt;3 -->\n",
       "<g id=\"edge3\" class=\"edge\">\n",
       "<title>2&#45;&gt;3</title>\n",
       "<path fill=\"none\" stroke=\"#000000\" d=\"M121.0691,-110.9595C112.8765,-101.7158 104.2795,-92.0157 96.1183,-82.8074\"/>\n",
       "<polygon fill=\"#000000\" stroke=\"#000000\" points=\"98.6358,-80.3711 89.3837,-75.2088 93.3972,-85.0141 98.6358,-80.3711\"/>\n",
       "</g>\n",
       "<!-- 4 -->\n",
       "<g id=\"node5\" class=\"node\">\n",
       "<title>4</title>\n",
       "<path fill=\"#e58139\" fill-opacity=\"0.686275\" stroke=\"#000000\" d=\"M222.3724,-75.3003C222.3724,-75.3003 141.7306,-75.3003 141.7306,-75.3003 135.7306,-75.3003 129.7306,-69.3003 129.7306,-63.3003 129.7306,-63.3003 129.7306,-11.8997 129.7306,-11.8997 129.7306,-5.8997 135.7306,.1003 141.7306,.1003 141.7306,.1003 222.3724,.1003 222.3724,.1003 228.3724,.1003 234.3724,-5.8997 234.3724,-11.8997 234.3724,-11.8997 234.3724,-63.3003 234.3724,-63.3003 234.3724,-69.3003 228.3724,-75.3003 222.3724,-75.3003\"/>\n",
       "<text text-anchor=\"start\" x=\"145.6739\" y=\"-58.6\" font-family=\"Helvetica,sans-Serif\" font-size=\"14.00\" fill=\"#000000\">gini = 0.363</text>\n",
       "<text text-anchor=\"start\" x=\"140.2335\" y=\"-41.8\" font-family=\"Helvetica,sans-Serif\" font-size=\"14.00\" fill=\"#000000\">samples = 21</text>\n",
       "<text text-anchor=\"start\" x=\"137.8913\" y=\"-25\" font-family=\"Helvetica,sans-Serif\" font-size=\"14.00\" fill=\"#000000\">value = [16, 5]</text>\n",
       "<text text-anchor=\"start\" x=\"153.4607\" y=\"-8.2\" font-family=\"Helvetica,sans-Serif\" font-size=\"14.00\" fill=\"#000000\">class = B</text>\n",
       "</g>\n",
       "<!-- 2&#45;&gt;4 -->\n",
       "<g id=\"edge4\" class=\"edge\">\n",
       "<title>2&#45;&gt;4</title>\n",
       "<path fill=\"none\" stroke=\"#000000\" d=\"M169.784,-110.9595C171.1907,-102.5477 172.6605,-93.7581 174.0741,-85.3049\"/>\n",
       "<polygon fill=\"#000000\" stroke=\"#000000\" points=\"177.565,-85.6492 175.7624,-75.2088 170.6609,-84.4946 177.565,-85.6492\"/>\n",
       "</g>\n",
       "<!-- 6 -->\n",
       "<g id=\"node7\" class=\"node\">\n",
       "<title>6</title>\n",
       "<path fill=\"#e58139\" fill-opacity=\"0.831373\" stroke=\"#000000\" d=\"M375.0904,-75.3003C375.0904,-75.3003 303.0126,-75.3003 303.0126,-75.3003 297.0126,-75.3003 291.0126,-69.3003 291.0126,-63.3003 291.0126,-63.3003 291.0126,-11.8997 291.0126,-11.8997 291.0126,-5.8997 297.0126,.1003 303.0126,.1003 303.0126,.1003 375.0904,.1003 375.0904,.1003 381.0904,.1003 387.0904,-5.8997 387.0904,-11.8997 387.0904,-11.8997 387.0904,-63.3003 387.0904,-63.3003 387.0904,-69.3003 381.0904,-75.3003 375.0904,-75.3003\"/>\n",
       "<text text-anchor=\"start\" x=\"302.6739\" y=\"-58.6\" font-family=\"Helvetica,sans-Serif\" font-size=\"14.00\" fill=\"#000000\">gini = 0.245</text>\n",
       "<text text-anchor=\"start\" x=\"301.1248\" y=\"-41.8\" font-family=\"Helvetica,sans-Serif\" font-size=\"14.00\" fill=\"#000000\">samples = 7</text>\n",
       "<text text-anchor=\"start\" x=\"298.7826\" y=\"-25\" font-family=\"Helvetica,sans-Serif\" font-size=\"14.00\" fill=\"#000000\">value = [6, 1]</text>\n",
       "<text text-anchor=\"start\" x=\"310.4607\" y=\"-8.2\" font-family=\"Helvetica,sans-Serif\" font-size=\"14.00\" fill=\"#000000\">class = B</text>\n",
       "</g>\n",
       "<!-- 5&#45;&gt;6 -->\n",
       "<g id=\"edge6\" class=\"edge\">\n",
       "<title>5&#45;&gt;6</title>\n",
       "<path fill=\"none\" stroke=\"#000000\" d=\"M351.319,-110.9595C349.9123,-102.5477 348.4425,-93.7581 347.0289,-85.3049\"/>\n",
       "<polygon fill=\"#000000\" stroke=\"#000000\" points=\"350.4421,-84.4946 345.3406,-75.2088 343.538,-85.6492 350.4421,-84.4946\"/>\n",
       "</g>\n",
       "<!-- 7 -->\n",
       "<g id=\"node8\" class=\"node\">\n",
       "<title>7</title>\n",
       "<path fill=\"#399de5\" stroke=\"#000000\" d=\"M497.3724,-75.3003C497.3724,-75.3003 416.7306,-75.3003 416.7306,-75.3003 410.7306,-75.3003 404.7306,-69.3003 404.7306,-63.3003 404.7306,-63.3003 404.7306,-11.8997 404.7306,-11.8997 404.7306,-5.8997 410.7306,.1003 416.7306,.1003 416.7306,.1003 497.3724,.1003 497.3724,.1003 503.3724,.1003 509.3724,-5.8997 509.3724,-11.8997 509.3724,-11.8997 509.3724,-63.3003 509.3724,-63.3003 509.3724,-69.3003 503.3724,-75.3003 497.3724,-75.3003\"/>\n",
       "<text text-anchor=\"start\" x=\"428.4565\" y=\"-58.6\" font-family=\"Helvetica,sans-Serif\" font-size=\"14.00\" fill=\"#000000\">gini = 0.0</text>\n",
       "<text text-anchor=\"start\" x=\"415.2335\" y=\"-41.8\" font-family=\"Helvetica,sans-Serif\" font-size=\"14.00\" fill=\"#000000\">samples = 15</text>\n",
       "<text text-anchor=\"start\" x=\"412.8913\" y=\"-25\" font-family=\"Helvetica,sans-Serif\" font-size=\"14.00\" fill=\"#000000\">value = [0, 15]</text>\n",
       "<text text-anchor=\"start\" x=\"427.2987\" y=\"-8.2\" font-family=\"Helvetica,sans-Serif\" font-size=\"14.00\" fill=\"#000000\">class = M</text>\n",
       "</g>\n",
       "<!-- 5&#45;&gt;7 -->\n",
       "<g id=\"edge7\" class=\"edge\">\n",
       "<title>5&#45;&gt;7</title>\n",
       "<path fill=\"none\" stroke=\"#000000\" d=\"M396.9409,-110.9595C404.4394,-101.8082 412.3044,-92.2097 419.7822,-83.0838\"/>\n",
       "<polygon fill=\"#000000\" stroke=\"#000000\" points=\"422.6041,-85.1621 426.2349,-75.2088 417.1896,-80.7255 422.6041,-85.1621\"/>\n",
       "</g>\n",
       "<!-- 9 -->\n",
       "<g id=\"node10\" class=\"node\">\n",
       "<title>9</title>\n",
       "<path fill=\"#e58139\" fill-opacity=\"0.200000\" stroke=\"#000000\" d=\"M546.0904,-194.9003C546.0904,-194.9003 474.0126,-194.9003 474.0126,-194.9003 468.0126,-194.9003 462.0126,-188.9003 462.0126,-182.9003 462.0126,-182.9003 462.0126,-131.4997 462.0126,-131.4997 462.0126,-125.4997 468.0126,-119.4997 474.0126,-119.4997 474.0126,-119.4997 546.0904,-119.4997 546.0904,-119.4997 552.0904,-119.4997 558.0904,-125.4997 558.0904,-131.4997 558.0904,-131.4997 558.0904,-182.9003 558.0904,-182.9003 558.0904,-188.9003 552.0904,-194.9003 546.0904,-194.9003\"/>\n",
       "<text text-anchor=\"start\" x=\"473.6739\" y=\"-178.2\" font-family=\"Helvetica,sans-Serif\" font-size=\"14.00\" fill=\"#000000\">gini = 0.494</text>\n",
       "<text text-anchor=\"start\" x=\"472.1248\" y=\"-161.4\" font-family=\"Helvetica,sans-Serif\" font-size=\"14.00\" fill=\"#000000\">samples = 9</text>\n",
       "<text text-anchor=\"start\" x=\"469.7826\" y=\"-144.6\" font-family=\"Helvetica,sans-Serif\" font-size=\"14.00\" fill=\"#000000\">value = [5, 4]</text>\n",
       "<text text-anchor=\"start\" x=\"481.4607\" y=\"-127.8\" font-family=\"Helvetica,sans-Serif\" font-size=\"14.00\" fill=\"#000000\">class = B</text>\n",
       "</g>\n",
       "<!-- 8&#45;&gt;9 -->\n",
       "<g id=\"edge9\" class=\"edge\">\n",
       "<title>8&#45;&gt;9</title>\n",
       "<path fill=\"none\" stroke=\"#000000\" d=\"M511.9684,-238.9891C511.7115,-228.0272 511.4369,-216.309 511.1781,-205.2667\"/>\n",
       "<polygon fill=\"#000000\" stroke=\"#000000\" points=\"514.6693,-204.8487 510.9359,-194.9335 507.6712,-205.0128 514.6693,-204.8487\"/>\n",
       "</g>\n",
       "<!-- 10 -->\n",
       "<g id=\"node11\" class=\"node\">\n",
       "<title>10</title>\n",
       "<path fill=\"#399de5\" fill-opacity=\"0.984314\" stroke=\"#000000\" d=\"M730.2156,-203.2C730.2156,-203.2 587.8874,-203.2 587.8874,-203.2 581.8874,-203.2 575.8874,-197.2 575.8874,-191.2 575.8874,-191.2 575.8874,-123.2 575.8874,-123.2 575.8874,-117.2 581.8874,-111.2 587.8874,-111.2 587.8874,-111.2 730.2156,-111.2 730.2156,-111.2 736.2156,-111.2 742.2156,-117.2 742.2156,-123.2 742.2156,-123.2 742.2156,-191.2 742.2156,-191.2 742.2156,-197.2 736.2156,-203.2 730.2156,-203.2\"/>\n",
       "<text text-anchor=\"start\" x=\"583.9695\" y=\"-186.6\" font-family=\"Helvetica,sans-Serif\" font-size=\"14.00\" fill=\"#000000\">concavity mean ≤ 0.088</text>\n",
       "<text text-anchor=\"start\" x=\"622.6739\" y=\"-169.8\" font-family=\"Helvetica,sans-Serif\" font-size=\"14.00\" fill=\"#000000\">gini = 0.033</text>\n",
       "<text text-anchor=\"start\" x=\"613.3422\" y=\"-153\" font-family=\"Helvetica,sans-Serif\" font-size=\"14.00\" fill=\"#000000\">samples = 118</text>\n",
       "<text text-anchor=\"start\" x=\"611\" y=\"-136.2\" font-family=\"Helvetica,sans-Serif\" font-size=\"14.00\" fill=\"#000000\">value = [2, 116]</text>\n",
       "<text text-anchor=\"start\" x=\"629.2987\" y=\"-119.4\" font-family=\"Helvetica,sans-Serif\" font-size=\"14.00\" fill=\"#000000\">class = M</text>\n",
       "</g>\n",
       "<!-- 8&#45;&gt;10 -->\n",
       "<g id=\"edge10\" class=\"edge\">\n",
       "<title>8&#45;&gt;10</title>\n",
       "<path fill=\"none\" stroke=\"#000000\" d=\"M565.7609,-238.9891C576.5119,-229.5635 587.9008,-219.5787 598.8891,-209.9452\"/>\n",
       "<polygon fill=\"#000000\" stroke=\"#000000\" points=\"601.2074,-212.5673 606.4195,-203.3431 596.5928,-207.3037 601.2074,-212.5673\"/>\n",
       "</g>\n",
       "<!-- 11 -->\n",
       "<g id=\"node12\" class=\"node\">\n",
       "<title>11</title>\n",
       "<path fill=\"#399de5\" fill-opacity=\"0.600000\" stroke=\"#000000\" d=\"M640.0904,-75.3003C640.0904,-75.3003 568.0126,-75.3003 568.0126,-75.3003 562.0126,-75.3003 556.0126,-69.3003 556.0126,-63.3003 556.0126,-63.3003 556.0126,-11.8997 556.0126,-11.8997 556.0126,-5.8997 562.0126,.1003 568.0126,.1003 568.0126,.1003 640.0904,.1003 640.0904,.1003 646.0904,.1003 652.0904,-5.8997 652.0904,-11.8997 652.0904,-11.8997 652.0904,-63.3003 652.0904,-63.3003 652.0904,-69.3003 646.0904,-75.3003 640.0904,-75.3003\"/>\n",
       "<text text-anchor=\"start\" x=\"567.6739\" y=\"-58.6\" font-family=\"Helvetica,sans-Serif\" font-size=\"14.00\" fill=\"#000000\">gini = 0.408</text>\n",
       "<text text-anchor=\"start\" x=\"566.1248\" y=\"-41.8\" font-family=\"Helvetica,sans-Serif\" font-size=\"14.00\" fill=\"#000000\">samples = 7</text>\n",
       "<text text-anchor=\"start\" x=\"563.7826\" y=\"-25\" font-family=\"Helvetica,sans-Serif\" font-size=\"14.00\" fill=\"#000000\">value = [2, 5]</text>\n",
       "<text text-anchor=\"start\" x=\"574.2987\" y=\"-8.2\" font-family=\"Helvetica,sans-Serif\" font-size=\"14.00\" fill=\"#000000\">class = M</text>\n",
       "</g>\n",
       "<!-- 10&#45;&gt;11 -->\n",
       "<g id=\"edge11\" class=\"edge\">\n",
       "<title>10&#45;&gt;11</title>\n",
       "<path fill=\"none\" stroke=\"#000000\" d=\"M637.7871,-110.9595C633.7912,-102.2704 629.61,-93.1781 625.6054,-84.47\"/>\n",
       "<polygon fill=\"#000000\" stroke=\"#000000\" points=\"628.7045,-82.8319 621.3465,-75.2088 622.3448,-85.7565 628.7045,-82.8319\"/>\n",
       "</g>\n",
       "<!-- 12 -->\n",
       "<g id=\"node13\" class=\"node\">\n",
       "<title>12</title>\n",
       "<path fill=\"#399de5\" stroke=\"#000000\" d=\"M770.1545,-75.3003C770.1545,-75.3003 681.9485,-75.3003 681.9485,-75.3003 675.9485,-75.3003 669.9485,-69.3003 669.9485,-63.3003 669.9485,-63.3003 669.9485,-11.8997 669.9485,-11.8997 669.9485,-5.8997 675.9485,.1003 681.9485,.1003 681.9485,.1003 770.1545,.1003 770.1545,.1003 776.1545,.1003 782.1545,-5.8997 782.1545,-11.8997 782.1545,-11.8997 782.1545,-63.3003 782.1545,-63.3003 782.1545,-69.3003 776.1545,-75.3003 770.1545,-75.3003\"/>\n",
       "<text text-anchor=\"start\" x=\"697.4565\" y=\"-58.6\" font-family=\"Helvetica,sans-Serif\" font-size=\"14.00\" fill=\"#000000\">gini = 0.0</text>\n",
       "<text text-anchor=\"start\" x=\"680.3422\" y=\"-41.8\" font-family=\"Helvetica,sans-Serif\" font-size=\"14.00\" fill=\"#000000\">samples = 111</text>\n",
       "<text text-anchor=\"start\" x=\"678\" y=\"-25\" font-family=\"Helvetica,sans-Serif\" font-size=\"14.00\" fill=\"#000000\">value = [0, 111]</text>\n",
       "<text text-anchor=\"start\" x=\"696.2987\" y=\"-8.2\" font-family=\"Helvetica,sans-Serif\" font-size=\"14.00\" fill=\"#000000\">class = M</text>\n",
       "</g>\n",
       "<!-- 10&#45;&gt;12 -->\n",
       "<g id=\"edge12\" class=\"edge\">\n",
       "<title>10&#45;&gt;12</title>\n",
       "<path fill=\"none\" stroke=\"#000000\" d=\"M684.9554,-110.9595C689.8749,-102.178 695.025,-92.9846 699.9505,-84.1922\"/>\n",
       "<polygon fill=\"#000000\" stroke=\"#000000\" points=\"703.1491,-85.6437 704.983,-75.2088 697.0421,-82.2226 703.1491,-85.6437\"/>\n",
       "</g>\n",
       "</g>\n",
       "</svg>\n"
      ],
      "text/plain": [
       "<graphviz.files.Source at 0x10ebb6978>"
      ]
     },
     "execution_count": 28,
     "metadata": {},
     "output_type": "execute_result"
    }
   ],
   "source": [
    "import graphviz\n",
    "dot_data = tree.export_graphviz(clf_gini, out_file=None, feature_names=list(data)[1:31], class_names=clf_gini.classes_, filled=True, rounded=True, special_characters=True)  \n",
    "graph = graphviz.Source(dot_data)\n",
    "graph "
   ]
  },
  {
   "cell_type": "markdown",
   "metadata": {},
   "source": [
    "We can now use this model to make some predictions and get the accuracy of the model:"
   ]
  },
  {
   "cell_type": "code",
   "execution_count": 17,
   "metadata": {},
   "outputs": [
    {
     "name": "stdout",
     "output_type": "stream",
     "text": [
      "Accuracy is  94.7368421053\n"
     ]
    }
   ],
   "source": [
    "y_pred = clf_gini.predict(X_test)\n",
    "print(\"Accuracy is \", accuracy_score(y_test,y_pred)*100)"
   ]
  },
  {
   "cell_type": "markdown",
   "metadata": {},
   "source": [
    "### Training a SVM"
   ]
  },
  {
   "cell_type": "markdown",
   "metadata": {},
   "source": [
    "Thinking that the data might be separable in a hyperplane, we choose a support vector machine as our second algorithm to train."
   ]
  },
  {
   "cell_type": "code",
   "execution_count": 19,
   "metadata": {},
   "outputs": [
    {
     "data": {
      "text/plain": [
       "SVC(C=1.0, cache_size=200, class_weight=None, coef0=0.0,\n",
       "  decision_function_shape='ovr', degree=3, gamma='auto', kernel='rbf',\n",
       "  max_iter=-1, probability=False, random_state=None, shrinking=True,\n",
       "  tol=0.001, verbose=False)"
      ]
     },
     "execution_count": 19,
     "metadata": {},
     "output_type": "execute_result"
    }
   ],
   "source": [
    "svm = SVC()\n",
    "svm.fit(X_train, y_train)"
   ]
  },
  {
   "cell_type": "markdown",
   "metadata": {},
   "source": [
    "We can now use this model to make some predictions and get the accuracy of the model:"
   ]
  },
  {
   "cell_type": "code",
   "execution_count": 20,
   "metadata": {},
   "outputs": [
    {
     "name": "stdout",
     "output_type": "stream",
     "text": [
      "Accuracy is  59.649122807\n"
     ]
    }
   ],
   "source": [
    "y_pred = svm.predict(X_test)\n",
    "print(\"Accuracy is \", accuracy_score(y_test,y_pred)*100)"
   ]
  },
  {
   "cell_type": "markdown",
   "metadata": {},
   "source": [
    "## Comparison"
   ]
  },
  {
   "cell_type": "markdown",
   "metadata": {},
   "source": [
    "Based purely on the accuracy of the trained models, we easily conclude that the tree is the better predictor for the data. It is very likely that this is due to the inseparability of the data in a hyperplane. Maybe there exists no hyperplane that neatly separates the data and we would need to use another model.\n",
    "\n",
    "The trained tree seems to have a very good accuracy. We could start training different trees changing their properties to fine tune them and get better results. However, we should also be careful to avoid overfitting. If we were to use a tree for this problem, it would be a very good idea to explore also random forests."
   ]
  },
  {
   "cell_type": "markdown",
   "metadata": {},
   "source": [
    "## Notes"
   ]
  },
  {
   "cell_type": "markdown",
   "metadata": {},
   "source": [
    "We could have compared the models in a different way. We could have used cross validation to train $k$ times each algorithm (using the same seed to ensure we get the same $k$ folds). Then we could have calculated the mean accuracy and the mean standard deviation using the cros_val_score function from model_selection. finally we can show the results graphically with a box plot. We could then choose the algorithm with the least standard deviation and higher accuracy mean, or if this is not possible, choose depending on what is needed."
   ]
  }
 ],
 "metadata": {
  "kernelspec": {
   "display_name": "Python 3",
   "language": "python",
   "name": "python3"
  },
  "language_info": {
   "codemirror_mode": {
    "name": "ipython",
    "version": 3
   },
   "file_extension": ".py",
   "mimetype": "text/x-python",
   "name": "python",
   "nbconvert_exporter": "python",
   "pygments_lexer": "ipython3",
   "version": "3.6.4"
  }
 },
 "nbformat": 4,
 "nbformat_minor": 2
}
